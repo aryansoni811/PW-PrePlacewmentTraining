{
 "cells": [
  {
   "cell_type": "code",
   "execution_count": 7,
   "id": "4f11c55f-2e2e-4eff-aa3e-9d79eb734f97",
   "metadata": {},
   "outputs": [],
   "source": [
    "# 1. Scenario: A company wants to analyze the sales performance of its products in different regions. They have collected the following data:\n",
    "#    Region A: [10, 15, 12, 8, 14]\n",
    "#    Region B: [18, 20, 16, 22, 25]\n",
    "#    Calculate the mean sales for each region.\n"
   ]
  },
  {
   "cell_type": "code",
   "execution_count": 8,
   "id": "2f20d5af-9e0c-4cfd-8bed-47f5c2b2d184",
   "metadata": {},
   "outputs": [
    {
     "data": {
      "text/plain": [
       "(11.8, 20.2)"
      ]
     },
     "execution_count": 8,
     "metadata": {},
     "output_type": "execute_result"
    }
   ],
   "source": [
    "RegionA= [10, 15, 12, 8, 14]\n",
    "RegionB= [18, 20, 16, 22, 25]\n",
    "import numpy as np\n",
    "mean_sales_regionA=np.mean(RegionA)\n",
    "mean_sales_regionB=np.mean(RegionB)\n",
    "mean_sales_regionA,mean_sales_regionB"
   ]
  },
  {
   "cell_type": "code",
   "execution_count": 9,
   "id": "68391a61-3923-4a9a-a95f-7f0105dc4714",
   "metadata": {},
   "outputs": [],
   "source": [
    "# 2. Scenario: A survey is conducted to measure customer satisfaction on a scale of 1 to 5. The data collected is as follows:\n",
    "#    [4, 5, 2, 3, 5, 4, 3, 2, 4, 5]\n",
    "#    Calculate the mode of the survey responses.\n"
   ]
  },
  {
   "cell_type": "code",
   "execution_count": 10,
   "id": "e3607fc7-4e69-42d0-a584-2a2568dc1039",
   "metadata": {},
   "outputs": [
    {
     "data": {
      "text/plain": [
       "4"
      ]
     },
     "execution_count": 10,
     "metadata": {},
     "output_type": "execute_result"
    }
   ],
   "source": [
    "from statistics import mode\n",
    "scale=[4, 5, 2, 3, 5, 4, 3, 2, 4, 5]\n",
    "mode_scale=mode(scale)\n",
    "mode_scale"
   ]
  },
  {
   "cell_type": "code",
   "execution_count": 11,
   "id": "3cb21ec2-3e91-4738-a2b2-043aeb064871",
   "metadata": {},
   "outputs": [],
   "source": [
    "# 3. Scenario: A company wants to compare the salaries of two departments. The salary data for Department A and Department B are as follows:\n",
    "#    Department A: [5000, 6000, 5500, 7000]\n",
    "#    Department B: [4500, 5500, 5800, 6000, 5200]\n",
    "#    Calculate the median salary for each department.\n",
    "\n"
   ]
  },
  {
   "cell_type": "code",
   "execution_count": 12,
   "id": "72f21143-411a-4d6c-9305-af7330b8003f",
   "metadata": {},
   "outputs": [
    {
     "data": {
      "text/plain": [
       "(5750.0, 5500.0)"
      ]
     },
     "execution_count": 12,
     "metadata": {},
     "output_type": "execute_result"
    }
   ],
   "source": [
    "Department_A= [5000, 6000, 5500, 7000]\n",
    "Department_B= [4500, 5500, 5800, 6000, 5200]\n",
    "median_salaery_A=np.median(Department_A)\n",
    "median_salaery_B=np.median(Department_B)\n",
    "median_salaery_A,median_salaery_B"
   ]
  },
  {
   "cell_type": "code",
   "execution_count": 13,
   "id": "a98ca7fd-62e6-4579-b30d-75bfc8ff01e4",
   "metadata": {},
   "outputs": [],
   "source": [
    "# 4. Scenario: A data analyst wants to determine the variability in the daily stock prices of a company. The data collected is as follows:\n",
    "#    [25.5, 24.8, 26.1, 25.3, 24.9]\n",
    "#    Calculate the range of the stock prices.\n"
   ]
  },
  {
   "cell_type": "code",
   "execution_count": 14,
   "id": "b336bdad-719d-40f4-8375-42218047ff2f",
   "metadata": {},
   "outputs": [
    {
     "data": {
      "text/plain": [
       "1.3000000000000007"
      ]
     },
     "execution_count": 14,
     "metadata": {},
     "output_type": "execute_result"
    }
   ],
   "source": [
    "stock_prices = [25.5, 24.8, 26.1, 25.3, 24.9]\n",
    "price_range = max(stock_prices) - min(stock_prices)\n",
    "price_range"
   ]
  },
  {
   "cell_type": "code",
   "execution_count": 15,
   "id": "66a93c5c-036a-4e52-9911-44529f99a0e7",
   "metadata": {},
   "outputs": [],
   "source": [
    "# 5. Scenario: A study is conducted to compare the performance of two different teaching methods. The test scores of the students in each group are as follows:\n",
    "#    Group A: [85, 90, 92, 88, 91]\n",
    "#    Group B: [82, 88, 90, 86, 87]\n",
    "#    Perform a t-test to determine if there is a significant difference in the mean scores between the two groups.\n"
   ]
  },
  {
   "cell_type": "code",
   "execution_count": 16,
   "id": "a99fd81c-28e9-4154-8cf1-0846fa3ea992",
   "metadata": {},
   "outputs": [
    {
     "name": "stdout",
     "output_type": "stream",
     "text": [
      "T-statistic: 1.4312528946642733\n",
      "P-value: 0.19023970239078333\n"
     ]
    }
   ],
   "source": [
    "from scipy import stats\n",
    "\n",
    "# Test scores for Group A and Group B\n",
    "group_a_scores = [85, 90, 92, 88, 91]\n",
    "group_b_scores = [82, 88, 90, 86, 87]\n",
    "\n",
    "# Perform independent t-test\n",
    "t_statistic, p_value = stats.ttest_ind(group_a_scores, group_b_scores)\n",
    "\n",
    "# Print the results\n",
    "print(\"T-statistic:\", t_statistic)\n",
    "print(\"P-value:\", p_value)\n"
   ]
  },
  {
   "cell_type": "code",
   "execution_count": 17,
   "id": "75725a9e-16b2-4741-a901-928c11ee6295",
   "metadata": {},
   "outputs": [],
   "source": [
    "# 6. Scenario: A company wants to analyze the relationship between advertising expenditure and sales. The data collected is as follows:\n",
    "#    Advertising Expenditure (in thousands): [10, 15, 12, 8, 14]\n",
    "#    Sales (in thousands): [25, 30, 28, 20, 26]\n",
    "#    Calculate the correlation coefficient between advertising expenditure and sales.\n"
   ]
  },
  {
   "cell_type": "code",
   "execution_count": 18,
   "id": "ae7bcde4-055e-4bcc-8da9-bcd404977176",
   "metadata": {},
   "outputs": [
    {
     "data": {
      "text/plain": [
       "array([[1.        , 0.87575114],\n",
       "       [0.87575114, 1.        ]])"
      ]
     },
     "execution_count": 18,
     "metadata": {},
     "output_type": "execute_result"
    }
   ],
   "source": [
    "Advertising=[10, 15, 12, 8, 14]\n",
    "Sales=[25, 30, 28, 20, 26]\n",
    "\n",
    "\n",
    "import numpy as np\n",
    "np.corrcoef(x=Advertising,y=Sales)"
   ]
  },
  {
   "cell_type": "code",
   "execution_count": 19,
   "id": "a335aa49-aa9b-4b8d-a57c-6ab97f11d719",
   "metadata": {},
   "outputs": [],
   "source": [
    "# 7. Scenario: A survey is conducted to measure the heights of a group of people. The data collected is as follows:\n",
    "#    [160, 170, 165, 155, 175, 180, 170]\n",
    "#    Calculate the standard deviation of the heights.\n"
   ]
  },
  {
   "cell_type": "code",
   "execution_count": 20,
   "id": "cf502177-f49c-42fe-ad63-ad45e00860ac",
   "metadata": {},
   "outputs": [
    {
     "data": {
      "text/plain": [
       "7.953949089757174"
      ]
     },
     "execution_count": 20,
     "metadata": {},
     "output_type": "execute_result"
    }
   ],
   "source": [
    "height=[160, 170, 165, 155, 175, 180, 170]\n",
    "np.std(height)"
   ]
  },
  {
   "cell_type": "code",
   "execution_count": 21,
   "id": "9a088d2f-ac7e-465d-a4d9-c68eeeeb8f13",
   "metadata": {},
   "outputs": [],
   "source": [
    "# 8. Scenario: A company wants to analyze the relationship between employee tenure and job satisfaction. The data collected is as follows:\n",
    "#    Employee Tenure (in years): [2, 3, 5, 4, 6, 2, 4]\n",
    "#    Job Satisfaction (on a scale of 1 to 10): [7, 8, 6, 9, 5, 7, 6]\n",
    "#    Perform a linear regression analysis to predict job satisfaction based on employee tenure.\n"
   ]
  },
  {
   "cell_type": "code",
   "execution_count": 22,
   "id": "b41846c2-0dfb-4eb2-a41a-87c52ba9f94d",
   "metadata": {},
   "outputs": [],
   "source": [
    "Employee_Tenure=[2, 3, 5, 4, 6, 2, 4]\n",
    "Job_Satisfaction= [7, 8, 6, 9, 5, 7, 6]\n",
    "\n",
    "import pandas as pd\n",
    "df=pd.DataFrame()\n",
    "df['Employee_Tenure']=Employee_Tenure\n",
    "df['Job_Satisfaction']=Job_Satisfaction"
   ]
  },
  {
   "cell_type": "code",
   "execution_count": 23,
   "id": "f27b518f-4f3e-4d1e-929f-9b615f6449ad",
   "metadata": {},
   "outputs": [
    {
     "data": {
      "text/html": [
       "<div>\n",
       "<style scoped>\n",
       "    .dataframe tbody tr th:only-of-type {\n",
       "        vertical-align: middle;\n",
       "    }\n",
       "\n",
       "    .dataframe tbody tr th {\n",
       "        vertical-align: top;\n",
       "    }\n",
       "\n",
       "    .dataframe thead th {\n",
       "        text-align: right;\n",
       "    }\n",
       "</style>\n",
       "<table border=\"1\" class=\"dataframe\">\n",
       "  <thead>\n",
       "    <tr style=\"text-align: right;\">\n",
       "      <th></th>\n",
       "      <th>Employee_Tenure</th>\n",
       "      <th>Job_Satisfaction</th>\n",
       "    </tr>\n",
       "  </thead>\n",
       "  <tbody>\n",
       "    <tr>\n",
       "      <th>0</th>\n",
       "      <td>2</td>\n",
       "      <td>7</td>\n",
       "    </tr>\n",
       "    <tr>\n",
       "      <th>1</th>\n",
       "      <td>3</td>\n",
       "      <td>8</td>\n",
       "    </tr>\n",
       "    <tr>\n",
       "      <th>2</th>\n",
       "      <td>5</td>\n",
       "      <td>6</td>\n",
       "    </tr>\n",
       "    <tr>\n",
       "      <th>3</th>\n",
       "      <td>4</td>\n",
       "      <td>9</td>\n",
       "    </tr>\n",
       "    <tr>\n",
       "      <th>4</th>\n",
       "      <td>6</td>\n",
       "      <td>5</td>\n",
       "    </tr>\n",
       "    <tr>\n",
       "      <th>5</th>\n",
       "      <td>2</td>\n",
       "      <td>7</td>\n",
       "    </tr>\n",
       "    <tr>\n",
       "      <th>6</th>\n",
       "      <td>4</td>\n",
       "      <td>6</td>\n",
       "    </tr>\n",
       "  </tbody>\n",
       "</table>\n",
       "</div>"
      ],
      "text/plain": [
       "   Employee_Tenure  Job_Satisfaction\n",
       "0                2                 7\n",
       "1                3                 8\n",
       "2                5                 6\n",
       "3                4                 9\n",
       "4                6                 5\n",
       "5                2                 7\n",
       "6                4                 6"
      ]
     },
     "execution_count": 23,
     "metadata": {},
     "output_type": "execute_result"
    }
   ],
   "source": [
    "df"
   ]
  },
  {
   "cell_type": "code",
   "execution_count": 24,
   "id": "a9167c12-d76f-4d26-b394-791fc10cc1bf",
   "metadata": {},
   "outputs": [],
   "source": [
    "#dependent and independent features"
   ]
  },
  {
   "cell_type": "code",
   "execution_count": 25,
   "id": "3498d335-c574-4b45-88c3-455dc244d6ba",
   "metadata": {},
   "outputs": [],
   "source": [
    "x=df[['Employee_Tenure']]\n",
    "y=df[['Job_Satisfaction']]"
   ]
  },
  {
   "cell_type": "code",
   "execution_count": 26,
   "id": "f080ae71-c1c0-48b4-8065-32d1bff4058d",
   "metadata": {},
   "outputs": [],
   "source": [
    "from sklearn.model_selection import train_test_split\n",
    "x_train,y_train,x_test,y_test=train_test_split(x,y, test_size=.40)"
   ]
  },
  {
   "cell_type": "code",
   "execution_count": 27,
   "id": "f46229be-2aaa-4e5c-9ed5-c610958b6382",
   "metadata": {},
   "outputs": [
    {
     "data": {
      "text/plain": [
       "((4, 1), (4, 1))"
      ]
     },
     "execution_count": 27,
     "metadata": {},
     "output_type": "execute_result"
    }
   ],
   "source": [
    "x_train.shape,x_test.shape"
   ]
  },
  {
   "cell_type": "code",
   "execution_count": 28,
   "id": "bc007ddc-cb18-4716-a044-971c820a73da",
   "metadata": {},
   "outputs": [
    {
     "data": {
      "text/html": [
       "<style>#sk-container-id-1 {color: black;background-color: white;}#sk-container-id-1 pre{padding: 0;}#sk-container-id-1 div.sk-toggleable {background-color: white;}#sk-container-id-1 label.sk-toggleable__label {cursor: pointer;display: block;width: 100%;margin-bottom: 0;padding: 0.3em;box-sizing: border-box;text-align: center;}#sk-container-id-1 label.sk-toggleable__label-arrow:before {content: \"▸\";float: left;margin-right: 0.25em;color: #696969;}#sk-container-id-1 label.sk-toggleable__label-arrow:hover:before {color: black;}#sk-container-id-1 div.sk-estimator:hover label.sk-toggleable__label-arrow:before {color: black;}#sk-container-id-1 div.sk-toggleable__content {max-height: 0;max-width: 0;overflow: hidden;text-align: left;background-color: #f0f8ff;}#sk-container-id-1 div.sk-toggleable__content pre {margin: 0.2em;color: black;border-radius: 0.25em;background-color: #f0f8ff;}#sk-container-id-1 input.sk-toggleable__control:checked~div.sk-toggleable__content {max-height: 200px;max-width: 100%;overflow: auto;}#sk-container-id-1 input.sk-toggleable__control:checked~label.sk-toggleable__label-arrow:before {content: \"▾\";}#sk-container-id-1 div.sk-estimator input.sk-toggleable__control:checked~label.sk-toggleable__label {background-color: #d4ebff;}#sk-container-id-1 div.sk-label input.sk-toggleable__control:checked~label.sk-toggleable__label {background-color: #d4ebff;}#sk-container-id-1 input.sk-hidden--visually {border: 0;clip: rect(1px 1px 1px 1px);clip: rect(1px, 1px, 1px, 1px);height: 1px;margin: -1px;overflow: hidden;padding: 0;position: absolute;width: 1px;}#sk-container-id-1 div.sk-estimator {font-family: monospace;background-color: #f0f8ff;border: 1px dotted black;border-radius: 0.25em;box-sizing: border-box;margin-bottom: 0.5em;}#sk-container-id-1 div.sk-estimator:hover {background-color: #d4ebff;}#sk-container-id-1 div.sk-parallel-item::after {content: \"\";width: 100%;border-bottom: 1px solid gray;flex-grow: 1;}#sk-container-id-1 div.sk-label:hover label.sk-toggleable__label {background-color: #d4ebff;}#sk-container-id-1 div.sk-serial::before {content: \"\";position: absolute;border-left: 1px solid gray;box-sizing: border-box;top: 0;bottom: 0;left: 50%;z-index: 0;}#sk-container-id-1 div.sk-serial {display: flex;flex-direction: column;align-items: center;background-color: white;padding-right: 0.2em;padding-left: 0.2em;position: relative;}#sk-container-id-1 div.sk-item {position: relative;z-index: 1;}#sk-container-id-1 div.sk-parallel {display: flex;align-items: stretch;justify-content: center;background-color: white;position: relative;}#sk-container-id-1 div.sk-item::before, #sk-container-id-1 div.sk-parallel-item::before {content: \"\";position: absolute;border-left: 1px solid gray;box-sizing: border-box;top: 0;bottom: 0;left: 50%;z-index: -1;}#sk-container-id-1 div.sk-parallel-item {display: flex;flex-direction: column;z-index: 1;position: relative;background-color: white;}#sk-container-id-1 div.sk-parallel-item:first-child::after {align-self: flex-end;width: 50%;}#sk-container-id-1 div.sk-parallel-item:last-child::after {align-self: flex-start;width: 50%;}#sk-container-id-1 div.sk-parallel-item:only-child::after {width: 0;}#sk-container-id-1 div.sk-dashed-wrapped {border: 1px dashed gray;margin: 0 0.4em 0.5em 0.4em;box-sizing: border-box;padding-bottom: 0.4em;background-color: white;}#sk-container-id-1 div.sk-label label {font-family: monospace;font-weight: bold;display: inline-block;line-height: 1.2em;}#sk-container-id-1 div.sk-label-container {text-align: center;}#sk-container-id-1 div.sk-container {/* jupyter's `normalize.less` sets `[hidden] { display: none; }` but bootstrap.min.css set `[hidden] { display: none !important; }` so we also need the `!important` here to be able to override the default hidden behavior on the sphinx rendered scikit-learn.org. See: https://github.com/scikit-learn/scikit-learn/issues/21755 */display: inline-block !important;position: relative;}#sk-container-id-1 div.sk-text-repr-fallback {display: none;}</style><div id=\"sk-container-id-1\" class=\"sk-top-container\"><div class=\"sk-text-repr-fallback\"><pre>LinearRegression()</pre><b>In a Jupyter environment, please rerun this cell to show the HTML representation or trust the notebook. <br />On GitHub, the HTML representation is unable to render, please try loading this page with nbviewer.org.</b></div><div class=\"sk-container\" hidden><div class=\"sk-item\"><div class=\"sk-estimator sk-toggleable\"><input class=\"sk-toggleable__control sk-hidden--visually\" id=\"sk-estimator-id-1\" type=\"checkbox\" checked><label for=\"sk-estimator-id-1\" class=\"sk-toggleable__label sk-toggleable__label-arrow\">LinearRegression</label><div class=\"sk-toggleable__content\"><pre>LinearRegression()</pre></div></div></div></div></div>"
      ],
      "text/plain": [
       "LinearRegression()"
      ]
     },
     "execution_count": 28,
     "metadata": {},
     "output_type": "execute_result"
    }
   ],
   "source": [
    "from sklearn.linear_model import LinearRegression\n",
    "regressor=LinearRegression()\n",
    "regressor.fit(x,y)"
   ]
  },
  {
   "cell_type": "code",
   "execution_count": 29,
   "id": "320a2bd7-6cf9-47d3-b350-60db60f176cf",
   "metadata": {},
   "outputs": [
    {
     "data": {
      "text/plain": [
       "array([[7.65957447],\n",
       "       [7.19148936],\n",
       "       [6.25531915],\n",
       "       [6.72340426],\n",
       "       [5.78723404],\n",
       "       [7.65957447],\n",
       "       [6.72340426]])"
      ]
     },
     "execution_count": 29,
     "metadata": {},
     "output_type": "execute_result"
    }
   ],
   "source": [
    "y_pred=regressor.predict(x)\n",
    "y_pred"
   ]
  },
  {
   "cell_type": "code",
   "execution_count": 30,
   "id": "d76a91b3-f0b1-4b83-b28c-bfbb75d09c2d",
   "metadata": {},
   "outputs": [],
   "source": [
    "# # 10. Scenario: A company want to analyze customer feedback ratings on a scale of 1 to 10. The data collected is\n",
    "\n",
    "#  as follows:\n",
    "#     [8, 9, 7, 6, 8, 10, 9, 8, 7, 8]\n",
    "#     Calculate the 75th percentile of the feedback ratings.\n"
   ]
  },
  {
   "cell_type": "code",
   "execution_count": 31,
   "id": "18f76432-c7b2-4f9a-aa84-ede40bbb8e41",
   "metadata": {},
   "outputs": [],
   "source": [
    "feedback=[8, 9, 7, 6, 8, 10, 9, 8, 7, 8]"
   ]
  },
  {
   "cell_type": "code",
   "execution_count": 32,
   "id": "694646ad-93a6-456a-ad8b-2495d270efe4",
   "metadata": {},
   "outputs": [
    {
     "data": {
      "text/plain": [
       "8.75"
      ]
     },
     "execution_count": 32,
     "metadata": {},
     "output_type": "execute_result"
    }
   ],
   "source": [
    "import numpy as np\n",
    "np.percentile(feedback,75)"
   ]
  },
  {
   "cell_type": "code",
   "execution_count": 33,
   "id": "283ca9ae-66e6-481e-9c91-c5f85de51b79",
   "metadata": {},
   "outputs": [],
   "source": [
    "# 11. Scenario: A quality control department wants to test the weight consistency of a product. The weights of a sample of products are as follows:\n",
    "#     [10.2, 9.8, 10.0, 10.5, 10.3, 10.1]\n",
    "#     Perform a hypothesis test to determine if the mean weight differs significantly from 10 grams.\n"
   ]
  },
  {
   "cell_type": "code",
   "execution_count": null,
   "id": "e6284759-419b-4bfe-9cf1-f556cd485617",
   "metadata": {},
   "outputs": [],
   "source": []
  },
  {
   "cell_type": "code",
   "execution_count": 34,
   "id": "3cf95dee-de40-4ab8-a0b1-8644fa016ea4",
   "metadata": {},
   "outputs": [],
   "source": [
    "# 13. Scenario: A survey is conducted to measure customer satisfaction with a product on a scale of 1 to 10. The data collected is as follows:\n",
    "#     [7, 9, 6, 8, 10, 7, 8, 9, 7, 8]\n",
    "#     Calculate the 95% confidence interval for the population mean satisfaction score\n"
   ]
  },
  {
   "cell_type": "code",
   "execution_count": 35,
   "id": "c508876a-bbbc-469a-be2a-ae718d612fc8",
   "metadata": {},
   "outputs": [
    {
     "data": {
      "text/plain": [
       "7.9"
      ]
     },
     "execution_count": 35,
     "metadata": {},
     "output_type": "execute_result"
    }
   ],
   "source": [
    "cust_satis=[7, 9, 6, 8, 10, 7, 8, 9, 7, 8]\n",
    "np.mean(cust_satis)"
   ]
  },
  {
   "cell_type": "code",
   "execution_count": 36,
   "id": "0b081013-e6bd-4438-b149-8ff57c2f0254",
   "metadata": {},
   "outputs": [],
   "source": [
    "# 14. Scenario: A company wants to analyze the effect of temperature on product performance. The data collected is as follows:\n",
    "#     Temperature (in degrees Celsius): [20, 22, 23, 19, 21]\n",
    "#     Performance (on a scale of 1 to 10): [8, 7, 9, 6, 8]\n",
    "#     Perform a simple linear regression to predict performance based on temperature.\n"
   ]
  },
  {
   "cell_type": "code",
   "execution_count": 37,
   "id": "5ee6aca1-daaa-40e5-9909-34a9d9ce2a52",
   "metadata": {},
   "outputs": [],
   "source": [
    "temperature=[20, 22, 23, 19, 21]\n",
    "performance=[8, 7, 9, 6, 8]"
   ]
  },
  {
   "cell_type": "code",
   "execution_count": 38,
   "id": "41735290-2dda-45f0-96aa-a1966098c4ce",
   "metadata": {},
   "outputs": [],
   "source": [
    "df=pd.DataFrame()\n",
    "df['temperature']=temperature\n",
    "df['performance']=performance"
   ]
  },
  {
   "cell_type": "code",
   "execution_count": 39,
   "id": "e7a4c6f9-5ce4-4bf4-a943-ece4a2607839",
   "metadata": {},
   "outputs": [
    {
     "data": {
      "text/html": [
       "<div>\n",
       "<style scoped>\n",
       "    .dataframe tbody tr th:only-of-type {\n",
       "        vertical-align: middle;\n",
       "    }\n",
       "\n",
       "    .dataframe tbody tr th {\n",
       "        vertical-align: top;\n",
       "    }\n",
       "\n",
       "    .dataframe thead th {\n",
       "        text-align: right;\n",
       "    }\n",
       "</style>\n",
       "<table border=\"1\" class=\"dataframe\">\n",
       "  <thead>\n",
       "    <tr style=\"text-align: right;\">\n",
       "      <th></th>\n",
       "      <th>temperature</th>\n",
       "      <th>performance</th>\n",
       "    </tr>\n",
       "  </thead>\n",
       "  <tbody>\n",
       "    <tr>\n",
       "      <th>0</th>\n",
       "      <td>20</td>\n",
       "      <td>8</td>\n",
       "    </tr>\n",
       "    <tr>\n",
       "      <th>1</th>\n",
       "      <td>22</td>\n",
       "      <td>7</td>\n",
       "    </tr>\n",
       "    <tr>\n",
       "      <th>2</th>\n",
       "      <td>23</td>\n",
       "      <td>9</td>\n",
       "    </tr>\n",
       "    <tr>\n",
       "      <th>3</th>\n",
       "      <td>19</td>\n",
       "      <td>6</td>\n",
       "    </tr>\n",
       "    <tr>\n",
       "      <th>4</th>\n",
       "      <td>21</td>\n",
       "      <td>8</td>\n",
       "    </tr>\n",
       "  </tbody>\n",
       "</table>\n",
       "</div>"
      ],
      "text/plain": [
       "   temperature  performance\n",
       "0           20            8\n",
       "1           22            7\n",
       "2           23            9\n",
       "3           19            6\n",
       "4           21            8"
      ]
     },
     "execution_count": 39,
     "metadata": {},
     "output_type": "execute_result"
    }
   ],
   "source": [
    "df"
   ]
  },
  {
   "cell_type": "code",
   "execution_count": 40,
   "id": "aee0ee7b-743a-4e7f-90ff-8d6fab729ae7",
   "metadata": {},
   "outputs": [],
   "source": [
    "x=df[['temperature']]\n",
    "y=df[['performance']]"
   ]
  },
  {
   "cell_type": "code",
   "execution_count": 41,
   "id": "afcbcc88-1c33-47f3-9b02-4320283f7c8d",
   "metadata": {},
   "outputs": [],
   "source": [
    "from sklearn.model_selection import train_test_split\n",
    "x_train,y_train,x_test,y_test=train_test_split(x,y,test_size=.10)"
   ]
  },
  {
   "cell_type": "code",
   "execution_count": 42,
   "id": "7a646018-3e9f-47a0-a32b-d8d8ce881fb3",
   "metadata": {},
   "outputs": [],
   "source": [
    "from sklearn.linear_model import LinearRegression\n",
    "reg=LinearRegression()"
   ]
  },
  {
   "cell_type": "code",
   "execution_count": 43,
   "id": "652f2557-dfa9-4691-8824-3000f9b3abb9",
   "metadata": {},
   "outputs": [
    {
     "data": {
      "text/html": [
       "<style>#sk-container-id-2 {color: black;background-color: white;}#sk-container-id-2 pre{padding: 0;}#sk-container-id-2 div.sk-toggleable {background-color: white;}#sk-container-id-2 label.sk-toggleable__label {cursor: pointer;display: block;width: 100%;margin-bottom: 0;padding: 0.3em;box-sizing: border-box;text-align: center;}#sk-container-id-2 label.sk-toggleable__label-arrow:before {content: \"▸\";float: left;margin-right: 0.25em;color: #696969;}#sk-container-id-2 label.sk-toggleable__label-arrow:hover:before {color: black;}#sk-container-id-2 div.sk-estimator:hover label.sk-toggleable__label-arrow:before {color: black;}#sk-container-id-2 div.sk-toggleable__content {max-height: 0;max-width: 0;overflow: hidden;text-align: left;background-color: #f0f8ff;}#sk-container-id-2 div.sk-toggleable__content pre {margin: 0.2em;color: black;border-radius: 0.25em;background-color: #f0f8ff;}#sk-container-id-2 input.sk-toggleable__control:checked~div.sk-toggleable__content {max-height: 200px;max-width: 100%;overflow: auto;}#sk-container-id-2 input.sk-toggleable__control:checked~label.sk-toggleable__label-arrow:before {content: \"▾\";}#sk-container-id-2 div.sk-estimator input.sk-toggleable__control:checked~label.sk-toggleable__label {background-color: #d4ebff;}#sk-container-id-2 div.sk-label input.sk-toggleable__control:checked~label.sk-toggleable__label {background-color: #d4ebff;}#sk-container-id-2 input.sk-hidden--visually {border: 0;clip: rect(1px 1px 1px 1px);clip: rect(1px, 1px, 1px, 1px);height: 1px;margin: -1px;overflow: hidden;padding: 0;position: absolute;width: 1px;}#sk-container-id-2 div.sk-estimator {font-family: monospace;background-color: #f0f8ff;border: 1px dotted black;border-radius: 0.25em;box-sizing: border-box;margin-bottom: 0.5em;}#sk-container-id-2 div.sk-estimator:hover {background-color: #d4ebff;}#sk-container-id-2 div.sk-parallel-item::after {content: \"\";width: 100%;border-bottom: 1px solid gray;flex-grow: 1;}#sk-container-id-2 div.sk-label:hover label.sk-toggleable__label {background-color: #d4ebff;}#sk-container-id-2 div.sk-serial::before {content: \"\";position: absolute;border-left: 1px solid gray;box-sizing: border-box;top: 0;bottom: 0;left: 50%;z-index: 0;}#sk-container-id-2 div.sk-serial {display: flex;flex-direction: column;align-items: center;background-color: white;padding-right: 0.2em;padding-left: 0.2em;position: relative;}#sk-container-id-2 div.sk-item {position: relative;z-index: 1;}#sk-container-id-2 div.sk-parallel {display: flex;align-items: stretch;justify-content: center;background-color: white;position: relative;}#sk-container-id-2 div.sk-item::before, #sk-container-id-2 div.sk-parallel-item::before {content: \"\";position: absolute;border-left: 1px solid gray;box-sizing: border-box;top: 0;bottom: 0;left: 50%;z-index: -1;}#sk-container-id-2 div.sk-parallel-item {display: flex;flex-direction: column;z-index: 1;position: relative;background-color: white;}#sk-container-id-2 div.sk-parallel-item:first-child::after {align-self: flex-end;width: 50%;}#sk-container-id-2 div.sk-parallel-item:last-child::after {align-self: flex-start;width: 50%;}#sk-container-id-2 div.sk-parallel-item:only-child::after {width: 0;}#sk-container-id-2 div.sk-dashed-wrapped {border: 1px dashed gray;margin: 0 0.4em 0.5em 0.4em;box-sizing: border-box;padding-bottom: 0.4em;background-color: white;}#sk-container-id-2 div.sk-label label {font-family: monospace;font-weight: bold;display: inline-block;line-height: 1.2em;}#sk-container-id-2 div.sk-label-container {text-align: center;}#sk-container-id-2 div.sk-container {/* jupyter's `normalize.less` sets `[hidden] { display: none; }` but bootstrap.min.css set `[hidden] { display: none !important; }` so we also need the `!important` here to be able to override the default hidden behavior on the sphinx rendered scikit-learn.org. See: https://github.com/scikit-learn/scikit-learn/issues/21755 */display: inline-block !important;position: relative;}#sk-container-id-2 div.sk-text-repr-fallback {display: none;}</style><div id=\"sk-container-id-2\" class=\"sk-top-container\"><div class=\"sk-text-repr-fallback\"><pre>LinearRegression()</pre><b>In a Jupyter environment, please rerun this cell to show the HTML representation or trust the notebook. <br />On GitHub, the HTML representation is unable to render, please try loading this page with nbviewer.org.</b></div><div class=\"sk-container\" hidden><div class=\"sk-item\"><div class=\"sk-estimator sk-toggleable\"><input class=\"sk-toggleable__control sk-hidden--visually\" id=\"sk-estimator-id-2\" type=\"checkbox\" checked><label for=\"sk-estimator-id-2\" class=\"sk-toggleable__label sk-toggleable__label-arrow\">LinearRegression</label><div class=\"sk-toggleable__content\"><pre>LinearRegression()</pre></div></div></div></div></div>"
      ],
      "text/plain": [
       "LinearRegression()"
      ]
     },
     "execution_count": 43,
     "metadata": {},
     "output_type": "execute_result"
    }
   ],
   "source": [
    "reg.fit(x,y)"
   ]
  },
  {
   "cell_type": "code",
   "execution_count": null,
   "id": "bb4d090c-d92b-41de-8283-c757c4ad3afa",
   "metadata": {},
   "outputs": [],
   "source": [
    "# 15. Scenario: A study is conducted to compare the preferences of two groups of participants. The preferences are measured on a Likert scale from 1 to 5. The data collected is as follows:\n",
    "#     Group A: [4, 3, 5, 2, 4]\n",
    "#     Group B: [3, 2, 4, 3, 3]\n",
    "#     Perform a Mann-Whitney U test to determine if there is a significant difference in the median preferences between the two groups.\n"
   ]
  },
  {
   "cell_type": "code",
   "execution_count": 44,
   "id": "c787e8b6-8fa7-4ba0-97bf-9d5e91c44a2c",
   "metadata": {},
   "outputs": [],
   "source": [
    "# 16. Scenario: A company wants to analyze the distribution of customer ages. The data collected is as follows:\n",
    "#     [25, 30, 35, 40, 45, 50, 55, 60, 65, 70]\n",
    "#     Calculate the interquartile range (IQR) of the ages.\n"
   ]
  },
  {
   "cell_type": "code",
   "execution_count": 47,
   "id": "a3caa22f-e534-4eb4-8f25-4db04f5aa5eb",
   "metadata": {},
   "outputs": [],
   "source": [
    "\n",
    "l2=sorted(l1)"
   ]
  },
  {
   "cell_type": "code",
   "execution_count": 51,
   "id": "f19c1861-dfff-4cac-8c8c-4940f3e08bf0",
   "metadata": {},
   "outputs": [
    {
     "name": "stdout",
     "output_type": "stream",
     "text": [
      "nan\n"
     ]
    },
    {
     "name": "stderr",
     "output_type": "stream",
     "text": [
      "/opt/conda/lib/python3.10/site-packages/numpy/core/fromnumeric.py:3432: RuntimeWarning: Mean of empty slice.\n",
      "  return _methods._mean(a, axis=axis, dtype=dtype,\n",
      "/opt/conda/lib/python3.10/site-packages/numpy/core/_methods.py:190: RuntimeWarning: invalid value encountered in double_scalars\n",
      "  ret = ret.dtype.type(ret / rcount)\n"
     ]
    }
   ],
   "source": [
    "import numpy as np\n",
    "data=[25, 30, 35, 40, 45, 50, 55, 60, 65, 70]\n",
    "\n",
    "Q1 = np.median(data[:10])\n",
    "  \n",
    "\n",
    "Q3 = np.median(data[10:])\n",
    "  \n",
    "\n",
    "IQR = Q3 - Q1\n",
    "  \n",
    "print(IQR)"
   ]
  },
  {
   "cell_type": "code",
   "execution_count": 54,
   "id": "dd64d662-b150-403d-9513-a5e3a37a4cbf",
   "metadata": {},
   "outputs": [
    {
     "data": {
      "text/plain": [
       "45.0"
      ]
     },
     "execution_count": 54,
     "metadata": {},
     "output_type": "execute_result"
    }
   ],
   "source": [
    "data=[25, 30, 35, 40, 45, 50, 55, 60, 65, 70]\n",
    "\n",
    "Q1 = np.median(data[:9])\n",
    "Q1"
   ]
  },
  {
   "cell_type": "code",
   "execution_count": null,
   "id": "30d25656-1bf1-46c0-aa23-fdd180edbc47",
   "metadata": {},
   "outputs": [],
   "source": []
  },
  {
   "cell_type": "code",
   "execution_count": null,
   "id": "8c0bee0e-031e-437b-8a97-5051cbdac17b",
   "metadata": {},
   "outputs": [],
   "source": []
  }
 ],
 "metadata": {
  "kernelspec": {
   "display_name": "Python 3 (ipykernel)",
   "language": "python",
   "name": "python3"
  },
  "language_info": {
   "codemirror_mode": {
    "name": "ipython",
    "version": 3
   },
   "file_extension": ".py",
   "mimetype": "text/x-python",
   "name": "python",
   "nbconvert_exporter": "python",
   "pygments_lexer": "ipython3",
   "version": "3.10.8"
  }
 },
 "nbformat": 4,
 "nbformat_minor": 5
}
