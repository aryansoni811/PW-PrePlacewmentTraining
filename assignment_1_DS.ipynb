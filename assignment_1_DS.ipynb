{
 "cells": [
  {
   "cell_type": "code",
   "execution_count": 1,
   "id": "132fce41-ef0b-4919-b890-b601d1d109e2",
   "metadata": {},
   "outputs": [],
   "source": [
    "# 1. Write a Python program to reverse a string without using any built-in string reversal functions.\n",
    "# 2. Implement a function to check if a given string is a palindrome.\n",
    "# 3. Write a program to find the largest element in a given list.\n",
    "# 4. Implement a function to count the occurrence of each element in a list.\n",
    "# 5. Write a Python program to find the second largest number in a list.\n",
    "# 6. Implement a function to remove duplicate elements from a list.\n",
    "# 7. Write a program to calculate the factorial of a given number.\n",
    "# 8. Implement a function to check if a given number is prime.\n",
    "# 9. Write a Python program to sort a list of integers in ascending order.\n",
    "# 10. Implement a function to find the sum of all numbers in a list.\n"
   ]
  },
  {
   "cell_type": "code",
   "execution_count": 51,
   "id": "0a2805db-7e9d-4513-8ade-1acb425c2bbb",
   "metadata": {},
   "outputs": [
    {
     "name": "stdout",
     "output_type": "stream",
     "text": [
      "nahsrad\n"
     ]
    }
   ],
   "source": [
    "# 1. Write a Python program to reverse a string without using any built-in string reversal functions.\n",
    "\n",
    "str='darshan'\n",
    "reverse_str=str[::-1]\n",
    "print(reverse_str)"
   ]
  },
  {
   "cell_type": "code",
   "execution_count": 52,
   "id": "2826c52d-4f51-456b-8130-f0dfe25a2e48",
   "metadata": {},
   "outputs": [],
   "source": [
    "# 2. Implement a function to check if a given string is a palindrome.\n"
   ]
  },
  {
   "cell_type": "code",
   "execution_count": 53,
   "id": "ea070a3d-fd46-422c-a077-36615942bd12",
   "metadata": {},
   "outputs": [],
   "source": [
    "\n",
    "reversed_string=str[::-1]\n",
    "def palin(string):\n",
    "    if(str==reversed_string):\n",
    "        print(\"palindrome\")\n",
    "    else:\n",
    "        print(\"not palindrome\")\n",
    "\n"
   ]
  },
  {
   "cell_type": "code",
   "execution_count": 17,
   "id": "2e410969-e3eb-45be-9910-50057a189440",
   "metadata": {},
   "outputs": [
    {
     "name": "stdout",
     "output_type": "stream",
     "text": [
      "palindrome\n"
     ]
    }
   ],
   "source": [
    "str='janaj'\n",
    "palin(str)\n"
   ]
  },
  {
   "cell_type": "code",
   "execution_count": 19,
   "id": "46820ca3-2afb-49ed-b87d-620ade586d58",
   "metadata": {},
   "outputs": [
    {
     "name": "stdout",
     "output_type": "stream",
     "text": [
      "6\n"
     ]
    }
   ],
   "source": [
    "# 3. Write a program to find the largest element in a given list.\n",
    "l=[1,2,3,4,5,6]\n",
    "largest=max(l)\n",
    "print(largest)\n"
   ]
  },
  {
   "cell_type": "code",
   "execution_count": 32,
   "id": "e8abd2fa-e1f6-4546-9d22-108c8b373b08",
   "metadata": {},
   "outputs": [],
   "source": [
    "\n",
    "# 4. Implement a function to count the occurrence of each element in a list.\n",
    "\n",
    "def count_occurrences(lst):\n",
    "    occurrence_count = {}\n",
    "    \n",
    "    for item in lst:\n",
    "        if item in occurrence_count:\n",
    "            occurrence_count[item] += 1\n",
    "        else:\n",
    "            occurrence_count[item] = 1\n",
    "    \n",
    "    return occurrence_count\n"
   ]
  },
  {
   "cell_type": "code",
   "execution_count": 33,
   "id": "7e55ea57-ce3a-4f20-9839-33cb0240453f",
   "metadata": {},
   "outputs": [
    {
     "data": {
      "text/plain": [
       "{1: 1, 2: 3, 3: 3}"
      ]
     },
     "execution_count": 33,
     "metadata": {},
     "output_type": "execute_result"
    }
   ],
   "source": [
    "l1=[1,2,3,2,3,2,3]\n",
    "count_occurrences(l1)"
   ]
  },
  {
   "cell_type": "code",
   "execution_count": 54,
   "id": "57eede3d-c399-4e67-a103-98515de9387b",
   "metadata": {},
   "outputs": [],
   "source": [
    "# 5. Write a Python program to find the second largest number in a list.\n",
    "\n",
    "def sec_larg(list):\n",
    "    list.sort()\n",
    "    print(l1[-2])"
   ]
  },
  {
   "cell_type": "code",
   "execution_count": 55,
   "id": "bb769bf1-c26a-4a1d-ae7e-a3ac2a87640d",
   "metadata": {},
   "outputs": [
    {
     "name": "stdout",
     "output_type": "stream",
     "text": [
      "76\n"
     ]
    }
   ],
   "source": [
    "l1=[1,3,2,5,87,4,2,4,6,76,4]\n",
    "sec_larg(l1)"
   ]
  },
  {
   "cell_type": "code",
   "execution_count": 60,
   "id": "8ed28201-6f5f-445f-a85e-0db181add669",
   "metadata": {},
   "outputs": [],
   "source": [
    "# 6. Implement a function to remove duplicate elements from a list.\n",
    "l1=[1,3,2,5,87,4,2,4,6,76,4]\n",
    "def dupli_rem(list):\n",
    "    seen=set()\n",
    "    result=[]\n",
    "    list.sort()\n",
    "    \n",
    "    for i in list:\n",
    "        if i not in seen:\n",
    "            result.append(i)\n",
    "            seen.add(i)\n",
    "            \n",
    "    return result \n",
    "\n"
   ]
  },
  {
   "cell_type": "code",
   "execution_count": 61,
   "id": "17f50460-88ae-41c4-9521-9693c76d9bc2",
   "metadata": {},
   "outputs": [
    {
     "data": {
      "text/plain": [
       "[1, 2, 3, 4, 5, 6, 76, 87]"
      ]
     },
     "execution_count": 61,
     "metadata": {},
     "output_type": "execute_result"
    }
   ],
   "source": [
    "l1=[1,3,2,5,87,4,2,4,6,76,4]\n",
    "dupli_rem(l1)"
   ]
  },
  {
   "cell_type": "code",
   "execution_count": 69,
   "id": "2f20e04e-61b0-46e0-9e2a-ce493335da4e",
   "metadata": {},
   "outputs": [
    {
     "name": "stdout",
     "output_type": "stream",
     "text": [
      "120\n"
     ]
    }
   ],
   "source": [
    "# 7. Write a program to calculate the factorial of a given number.\n",
    "no=5\n",
    "fact=1\n",
    "for i in range(1,no+1):\n",
    "    fact*=i\n",
    "print(fact)\n",
    "    \n"
   ]
  },
  {
   "cell_type": "code",
   "execution_count": null,
   "id": "fee303ce-1740-4fb8-b162-5dd236ade927",
   "metadata": {},
   "outputs": [],
   "source": []
  },
  {
   "cell_type": "code",
   "execution_count": null,
   "id": "d62deab8-90f7-4517-aa8e-9b7701fe4c2a",
   "metadata": {},
   "outputs": [],
   "source": [
    "# 8. Implement a function to check if a given number is prime.\n",
    "\n"
   ]
  },
  {
   "cell_type": "code",
   "execution_count": 84,
   "id": "a0ac3c63-5460-4205-acdd-6dcaeca908aa",
   "metadata": {},
   "outputs": [],
   "source": [
    "def is_prime(number):\n",
    "    if number <= 1:\n",
    "        return False\n",
    "\n",
    "    for i in range(2, int(number ** 0.5) + 1):\n",
    "        if number % i == 0:\n",
    "            return False\n",
    "\n",
    "    return True\n",
    "\n"
   ]
  },
  {
   "cell_type": "code",
   "execution_count": 85,
   "id": "10ff4c13-ed40-47b7-a701-6b8193fbc094",
   "metadata": {},
   "outputs": [
    {
     "name": "stdout",
     "output_type": "stream",
     "text": [
      "17 is a prime number.\n"
     ]
    }
   ],
   "source": [
    "# Example usage\n",
    "number = 17\n",
    "if is_prime(number):\n",
    "    print(f\"{number} is a prime number.\")\n",
    "else:\n",
    "    print(f\"{number} is not a prime number.\")\n",
    "\n"
   ]
  },
  {
   "cell_type": "code",
   "execution_count": null,
   "id": "05d8e78b-13f2-424d-87de-5527d59bf3e4",
   "metadata": {},
   "outputs": [],
   "source": []
  },
  {
   "cell_type": "code",
   "execution_count": null,
   "id": "16a58c2c-a35d-4260-9891-bfafb4179e7a",
   "metadata": {},
   "outputs": [],
   "source": [
    "# 9. Write a Python program to sort a list of integers in ascending order."
   ]
  },
  {
   "cell_type": "code",
   "execution_count": 102,
   "id": "93aca820-495e-4838-99f7-6ef60d23c92c",
   "metadata": {},
   "outputs": [
    {
     "data": {
      "text/plain": [
       "[1, 2, 3, 4, 5]"
      ]
     },
     "execution_count": 102,
     "metadata": {},
     "output_type": "execute_result"
    }
   ],
   "source": [
    "l=[5, 4, 3, 2, 1]\n",
    "sorted(l)\n"
   ]
  },
  {
   "cell_type": "code",
   "execution_count": null,
   "id": "e229714b-b285-452c-a827-18f8bd015c8c",
   "metadata": {},
   "outputs": [],
   "source": []
  },
  {
   "cell_type": "code",
   "execution_count": null,
   "id": "a803f595-06e4-4d5e-86f2-ed6cb9e4136a",
   "metadata": {},
   "outputs": [],
   "source": []
  },
  {
   "cell_type": "code",
   "execution_count": null,
   "id": "95670876-33a1-4420-ae15-348fb942216e",
   "metadata": {},
   "outputs": [],
   "source": [
    "# 10. Implement a function to find the sum of all numbers in a list."
   ]
  },
  {
   "cell_type": "code",
   "execution_count": 93,
   "id": "ce334abf-481f-46fc-b794-e3af2f9c2904",
   "metadata": {},
   "outputs": [],
   "source": [
    "def add(list):\n",
    "    sumo=0;\n",
    "    for i in list:\n",
    "        sumo+=i\n",
    "    print(sumo)"
   ]
  },
  {
   "cell_type": "code",
   "execution_count": 94,
   "id": "69ad5f59-11d9-431c-84dd-f67c97f3da0e",
   "metadata": {},
   "outputs": [
    {
     "name": "stdout",
     "output_type": "stream",
     "text": [
      "15\n"
     ]
    }
   ],
   "source": [
    "l=[1,2,3,4,5]\n",
    "add(l)\n"
   ]
  },
  {
   "cell_type": "code",
   "execution_count": null,
   "id": "0fdc325d-629f-4ab6-83a6-63a8850049bf",
   "metadata": {},
   "outputs": [],
   "source": []
  },
  {
   "cell_type": "code",
   "execution_count": 1,
   "id": "1b3ae706-5935-45ae-92da-61e7a3268da2",
   "metadata": {},
   "outputs": [
    {
     "name": "stdout",
     "output_type": "stream",
     "text": [
      "{2, 5}\n"
     ]
    }
   ],
   "source": [
    " # 11. Write a program to find the common elements between two lists.\n",
    "    \n",
    "l1=[1,2,3,4,5]\n",
    "l2=[2,5,6,7,8,9]\n",
    "common_elements = set(l1).intersection(l2)\n",
    "print(common_elements)"
   ]
  },
  {
   "cell_type": "code",
   "execution_count": null,
   "id": "9b48976e-8aa5-4fa1-9ea0-81dbd1a213f1",
   "metadata": {},
   "outputs": [],
   "source": [
    "# 12. Implement a function to check if a given string is an anagram of another string."
   ]
  },
  {
   "cell_type": "code",
   "execution_count": 7,
   "id": "1115e7f5-6972-4340-8402-0e9016516434",
   "metadata": {},
   "outputs": [],
   "source": [
    "def check_anagram(str1,str2):\n",
    "    str1 = str1.lower().replace(\" \", \"\")\n",
    "    str2 = str2.lower().replace(\" \", \"\")\n",
    "\n",
    "    sorted_str1 = sorted(str1)\n",
    "    sorted_str2 = sorted(str2)\n",
    "\n",
    "    if sorted_str1 == sorted_str2:\n",
    "        return True\n",
    "    else:\n",
    "        return False\n",
    "\n"
   ]
  },
  {
   "cell_type": "code",
   "execution_count": 10,
   "id": "b5a6bc2a-7e76-413a-a7fd-9a18d5c93487",
   "metadata": {},
   "outputs": [
    {
     "name": "stdout",
     "output_type": "stream",
     "text": [
      "The strings are anagrams.\n"
     ]
    }
   ],
   "source": [
    "string1 = \"listen\"\n",
    "string2 = \"silent\"\n",
    "if check_anagram(string1, string2):\n",
    "    print(\"The strings are anagrams.\")\n",
    "else:\n",
    "    print(\"The strings are not anagrams.\")"
   ]
  },
  {
   "cell_type": "code",
   "execution_count": null,
   "id": "a2ba6217-81b4-45f1-b9bd-ea7ee9ad43b3",
   "metadata": {},
   "outputs": [],
   "source": []
  },
  {
   "cell_type": "code",
   "execution_count": null,
   "id": "12760533-ff7c-46b3-9d32-ea794f3679bc",
   "metadata": {},
   "outputs": [],
   "source": [
    "# 14. Implement a function to calculate the Fibonacci sequence up to a given number of terms.\n"
   ]
  },
  {
   "cell_type": "code",
   "execution_count": 18,
   "id": "f857bfeb-ae09-4a5f-ab15-f7517014eeb0",
   "metadata": {},
   "outputs": [],
   "source": [
    "def fib(int):\n",
    "    n=8\n",
    "    a=0\n",
    "    b=1\n",
    "    print(a)\n",
    "    print(b)\n",
    "    for i in range(1,n):\n",
    "        c=a+b\n",
    "        print(c)\n",
    "        a,b=b,c"
   ]
  },
  {
   "cell_type": "code",
   "execution_count": 20,
   "id": "91b93796-aae1-46eb-9f70-299591578f7e",
   "metadata": {},
   "outputs": [
    {
     "name": "stdout",
     "output_type": "stream",
     "text": [
      "0\n",
      "1\n",
      "1\n",
      "2\n",
      "3\n",
      "5\n",
      "8\n",
      "13\n",
      "21\n"
     ]
    }
   ],
   "source": [
    "fib(5)"
   ]
  },
  {
   "cell_type": "code",
   "execution_count": null,
   "id": "4bd928f0-4b6a-4df1-8b33-c984efee4683",
   "metadata": {},
   "outputs": [],
   "source": []
  },
  {
   "cell_type": "code",
   "execution_count": null,
   "id": "b2455f83-d3ba-42ac-a9f2-aa40a9af3d25",
   "metadata": {},
   "outputs": [],
   "source": [
    "# 15. Write a program to find the median of a list of numbers.\n"
   ]
  },
  {
   "cell_type": "code",
   "execution_count": 66,
   "id": "96ec7107-76f0-4c16-9a7d-a7fa6b1c37a0",
   "metadata": {},
   "outputs": [],
   "source": [
    "def median(list):\n",
    "    length = len(l1)\n",
    "    if length%2==0:\n",
    "        mid_i=length/2;\n",
    "        mid_i2=mid_i-1\n",
    "        return ((list(mid_i) + list(mid_i2+1))/2)\n",
    "    else:\n",
    "        return list[int(length/2)]"
   ]
  },
  {
   "cell_type": "code",
   "execution_count": 69,
   "id": "6d266837-73e6-4b78-a0f3-68d679bf5c95",
   "metadata": {},
   "outputs": [
    {
     "data": {
      "text/plain": [
       "4"
      ]
     },
     "execution_count": 69,
     "metadata": {},
     "output_type": "execute_result"
    }
   ],
   "source": [
    "l1=[1,2,3,4,5,6,7]\n",
    "median(l1)"
   ]
  },
  {
   "cell_type": "code",
   "execution_count": 50,
   "id": "d2197e43-bce7-4ee2-8e91-cb6b9e43de23",
   "metadata": {},
   "outputs": [],
   "source": [
    "\n",
    "\n"
   ]
  },
  {
   "cell_type": "code",
   "execution_count": null,
   "id": "38e3c833-a44d-4a56-a91d-468038292826",
   "metadata": {},
   "outputs": [],
   "source": [
    "##16. Implement a function to check if a given list is sorted in non-decreasing order.\n",
    "\n",
    "def sort(list):\n",
    "    l=sorted(list)\n",
    "    if list==l:\n",
    "        return True\n",
    "    else:\n",
    "        return False\n",
    "        "
   ]
  },
  {
   "cell_type": "code",
   "execution_count": 75,
   "id": "c87faada-96b5-4171-b47c-4ea002b96ad6",
   "metadata": {},
   "outputs": [
    {
     "data": {
      "text/plain": [
       "True"
      ]
     },
     "execution_count": 75,
     "metadata": {},
     "output_type": "execute_result"
    }
   ],
   "source": [
    "l1=[1,2,3,4,5]\n",
    "sort(l1)"
   ]
  },
  {
   "cell_type": "code",
   "execution_count": 77,
   "id": "99543843-65b7-49a7-a90c-2494bcb81d5b",
   "metadata": {},
   "outputs": [
    {
     "name": "stdout",
     "output_type": "stream",
     "text": [
      "{2, 3, 5}\n"
     ]
    }
   ],
   "source": [
    "# 17. Write a Python program to find the intersection of two lists.\n",
    "\n",
    "    \n",
    "l1=[1,2,3,4,5]\n",
    "l2=[2,5,3,7,8,9]\n",
    "common_elements = set(l1).intersection(l2)\n",
    "print(common_elements)"
   ]
  },
  {
   "cell_type": "code",
   "execution_count": 79,
   "id": "aef53047-7dc7-4e8c-b282-96090b50b758",
   "metadata": {},
   "outputs": [
    {
     "name": "stdout",
     "output_type": "stream",
     "text": [
      "Maximum Subarray Sum: 11\n"
     ]
    }
   ],
   "source": [
    "# 18. Implement a function to find the maximum subarray sum in a given list.\n",
    "\n",
    "def find_max_subarray_sum(nums):\n",
    "    current_sum = 0\n",
    "    max_sum = float('-inf')\n",
    "\n",
    "    for num in nums:\n",
    "        current_sum = max(num, current_sum + num)\n",
    "        max_sum = max(max_sum, current_sum)\n",
    "\n",
    "    return max_sum\n",
    "\n",
    "number_list = [-2, 1, -3, 4, -1, 2, 1, -5, 10]\n",
    "max_subarray_sum = find_max_subarray_sum(number_list)\n",
    "\n",
    "print(\"Maximum Subarray Sum:\", max_subarray_sum)\n"
   ]
  },
  {
   "cell_type": "code",
   "execution_count": null,
   "id": "d0743984-ed37-48a4-881f-05756b57c32b",
   "metadata": {},
   "outputs": [],
   "source": [
    "# 19. Write a program to remove all vowels from a given string."
   ]
  },
  {
   "cell_type": "code",
   "execution_count": 95,
   "id": "73602b5a-761e-4e49-8ee2-d5a3e154ae49",
   "metadata": {},
   "outputs": [],
   "source": [
    "def rmcowel(string):\n",
    "    vowel='aeiouAEIOU'\n",
    "    return ''.join([char for char in string if char not in vowel])"
   ]
  },
  {
   "cell_type": "code",
   "execution_count": 96,
   "id": "1a6cc96d-eb3d-4a26-aa58-4c0aa1fe644f",
   "metadata": {},
   "outputs": [
    {
     "data": {
      "text/plain": [
       "'drshn'"
      ]
     },
     "execution_count": 96,
     "metadata": {},
     "output_type": "execute_result"
    }
   ],
   "source": [
    "string='darshan'\n",
    "r=rmcowel(string)\n",
    "r"
   ]
  },
  {
   "cell_type": "code",
   "execution_count": null,
   "id": "99f2611e-706a-4a6d-a58b-be0280300854",
   "metadata": {},
   "outputs": [],
   "source": [
    "# 20. Implement a function to reverse the order of words in a given sentence."
   ]
  },
  {
   "cell_type": "code",
   "execution_count": 100,
   "id": "cc16611d-8aac-43bb-a403-71e5e33885b4",
   "metadata": {},
   "outputs": [],
   "source": [
    "def reverse(string):\n",
    "    resed=string[::-1]\n",
    "    return resed"
   ]
  },
  {
   "cell_type": "code",
   "execution_count": 101,
   "id": "8f107a21-c676-4c2b-9921-2cb609c54ad0",
   "metadata": {},
   "outputs": [
    {
     "data": {
      "text/plain": [
       "'woc a si siht'"
      ]
     },
     "execution_count": 101,
     "metadata": {},
     "output_type": "execute_result"
    }
   ],
   "source": [
    "ama='this is a cow'\n",
    "reverse(ama)"
   ]
  },
  {
   "cell_type": "code",
   "execution_count": null,
   "id": "147743a5-2348-4cfd-8f9d-0c96bbf90086",
   "metadata": {},
   "outputs": [],
   "source": [
    "# 21. Write a Python program to check if two strings are anagrams of each other."
   ]
  },
  {
   "cell_type": "code",
   "execution_count": 3,
   "id": "7a9ad8cc-8200-4ced-86d3-2a77b823a86f",
   "metadata": {},
   "outputs": [],
   "source": [
    "def anagram(string1,string2):\n",
    "    string1=sorted(string1)\n",
    "    string2=sorted(string2)\n",
    "    if string1==string2:\n",
    "        return \"anagram\"\n",
    "    else:\n",
    "        return \"not anagram\""
   ]
  },
  {
   "cell_type": "code",
   "execution_count": 4,
   "id": "2e6f64bf-5b95-4def-b4f1-24f69c8bb25d",
   "metadata": {},
   "outputs": [
    {
     "data": {
      "text/plain": [
       "'anagram'"
      ]
     },
     "execution_count": 4,
     "metadata": {},
     "output_type": "execute_result"
    }
   ],
   "source": [
    "string1=\"camel\"\n",
    "string2=\"lemac\"\n",
    "anagram(string1,string2)"
   ]
  },
  {
   "cell_type": "code",
   "execution_count": 80,
   "id": "63a1d873-861c-49fa-abb4-c8437eae02f3",
   "metadata": {},
   "outputs": [],
   "source": [
    "# 22. Implement a function to find the first non-repeating character in a string."
   ]
  },
  {
   "cell_type": "code",
   "execution_count": null,
   "id": "653b3c5a-f53b-4acf-a9bb-163baa9127b1",
   "metadata": {},
   "outputs": [],
   "source": []
  },
  {
   "cell_type": "code",
   "execution_count": null,
   "id": "ddaefab7-dfd3-4f46-b6fb-c8cd175fa45a",
   "metadata": {},
   "outputs": [],
   "source": []
  },
  {
   "cell_type": "code",
   "execution_count": null,
   "id": "93700930-c556-4843-8db9-6cb1ed3afc92",
   "metadata": {},
   "outputs": [],
   "source": [
    "# 23. Write a program to find the prime factors of a given number."
   ]
  },
  {
   "cell_type": "code",
   "execution_count": 7,
   "id": "71752b04-6f1a-4efe-b892-3ba9e14c85f4",
   "metadata": {},
   "outputs": [
    {
     "name": "stdout",
     "output_type": "stream",
     "text": [
      "1\n",
      "7\n"
     ]
    }
   ],
   "source": [
    "num=7\n",
    "for i in range(1,num+1):\n",
    "    if num%i==0:\n",
    "        print(i)"
   ]
  },
  {
   "cell_type": "code",
   "execution_count": null,
   "id": "527f4032-e721-4461-b3a0-28c870e49e2c",
   "metadata": {},
   "outputs": [],
   "source": []
  },
  {
   "cell_type": "code",
   "execution_count": 81,
   "id": "2b2ff70f-84a6-4ec3-8b35-f75b21cff116",
   "metadata": {},
   "outputs": [],
   "source": [
    "# 24. Implement a function to check if a given number is a power of two."
   ]
  },
  {
   "cell_type": "code",
   "execution_count": 12,
   "id": "fabd1536-cead-4e70-be4c-52b713ac157b",
   "metadata": {},
   "outputs": [],
   "source": [
    "\n",
    "def pow(int):\n",
    "    val=(num&(num-1))\n",
    "    if(val==0):\n",
    "        return \"yes it is a power of two\"\n",
    "    else:\n",
    "        return \"no \""
   ]
  },
  {
   "cell_type": "code",
   "execution_count": 15,
   "id": "b59896d1-fd9b-45fa-9332-1daed36156dd",
   "metadata": {},
   "outputs": [
    {
     "data": {
      "text/plain": [
       "'yes it is a power of two'"
      ]
     },
     "execution_count": 15,
     "metadata": {},
     "output_type": "execute_result"
    }
   ],
   "source": [
    "num=1024\n",
    "pow(num)"
   ]
  },
  {
   "cell_type": "code",
   "execution_count": null,
   "id": "969729a8-8348-471b-a713-c99dd3cb86e0",
   "metadata": {},
   "outputs": [],
   "source": [
    "# 25. Write a Python program to merge two sorted lists into a single sorted list."
   ]
  },
  {
   "cell_type": "code",
   "execution_count": 17,
   "id": "7feb0d4e-9170-4881-a232-559b4ad931ad",
   "metadata": {},
   "outputs": [
    {
     "data": {
      "text/plain": [
       "[1, 2, 3, 4, 5, 6, 7, 8]"
      ]
     },
     "execution_count": 17,
     "metadata": {},
     "output_type": "execute_result"
    }
   ],
   "source": [
    "l1=[1,2,3,4]\n",
    "l1=sorted(l1)\n",
    "l2=[5,6,7,8]\n",
    "l2=sorted(l2)\n",
    "l3=[]\n",
    "l3=l1+l2\n",
    "l3"
   ]
  },
  {
   "cell_type": "code",
   "execution_count": 35,
   "id": "ffed858e-2e3f-4e67-b9b5-a5cf75e4e574",
   "metadata": {},
   "outputs": [],
   "source": [
    "# 26. Implement a function to find the mode of a list of numbers.\n",
    "\n",
    "def find_mode(lst):\n",
    "    frequency_dict = {}\n",
    "\n",
    "    # Count the frequency of each element\n",
    "    for element in lst:\n",
    "        frequency_dict[element] = frequency_dict.get(element, 0) + 1\n",
    "\n",
    "    # Find the maximum frequency\n",
    "    max_frequency = max(frequency_dict.values())\n",
    "\n",
    "    # Find the mode(s)\n",
    "    mode_list = []\n",
    "    for element, frequency in frequency_dict.items():\n",
    "        if frequency == max_frequency:\n",
    "            mode_list.append(element)\n",
    "\n",
    "    return mode_list\n"
   ]
  },
  {
   "cell_type": "code",
   "execution_count": 37,
   "id": "c2e50390-887e-46b4-9656-88e1b7742b4a",
   "metadata": {},
   "outputs": [
    {
     "data": {
      "text/plain": [
       "[5, 6]"
      ]
     },
     "execution_count": 37,
     "metadata": {},
     "output_type": "execute_result"
    }
   ],
   "source": [
    "list=[2,2,3,4,5,5,5,5,6,6,6,6]\n",
    "find_mode(list)"
   ]
  },
  {
   "cell_type": "code",
   "execution_count": null,
   "id": "a696e48b-983d-4457-b32e-008a368bdf78",
   "metadata": {},
   "outputs": [],
   "source": [
    "# 27. Write a program to find the greatest common divisor (GCD) of two numbers."
   ]
  },
  {
   "cell_type": "code",
   "execution_count": null,
   "id": "e2436f17-c406-404f-9312-5c22b8eb0a65",
   "metadata": {},
   "outputs": [],
   "source": []
  },
  {
   "cell_type": "code",
   "execution_count": 40,
   "id": "3cd1efeb-98b8-4360-94c0-08c401b589b1",
   "metadata": {},
   "outputs": [
    {
     "data": {
      "text/plain": [
       "14.0"
      ]
     },
     "execution_count": 41,
     "metadata": {},
     "output_type": "execute_result"
    }
   ],
   "source": [
    "# 28. Implement a function to calculate the square root of a given number.\n",
    "import math\n",
    "num=4;\n",
    "squareroot=math.sqrt(num)\n",
    "squareroot\n"
   ]
  },
  {
   "cell_type": "code",
   "execution_count": null,
   "id": "f2ce2d36-7261-41da-a98a-9001dd809561",
   "metadata": {},
   "outputs": [],
   "source": [
    "# 29. Write a Python program to check if a given string is a valid palindrome ignoring non-alphanumeric characters."
   ]
  },
  {
   "cell_type": "code",
   "execution_count": 62,
   "id": "3e3b397b-b0b1-4eab-bbce-35638ac24bc3",
   "metadata": {},
   "outputs": [],
   "source": [
    "def palin(string):\n",
    "    r_str=string[::-1]\n",
    "    if string==r_str:\n",
    "        return \"palindrome\"\n",
    "    else:\n",
    "        return \"not palindrome\"\n"
   ]
  },
  {
   "cell_type": "code",
   "execution_count": 63,
   "id": "d0b6cd23-28a2-484e-8fa2-0bfe5e0ab4d6",
   "metadata": {},
   "outputs": [
    {
     "data": {
      "text/plain": [
       "'palindrome'"
      ]
     },
     "execution_count": 63,
     "metadata": {},
     "output_type": "execute_result"
    }
   ],
   "source": [
    "palin(\"racecar\")"
   ]
  },
  {
   "cell_type": "code",
   "execution_count": 70,
   "id": "55851b30-4055-40cc-b585-5e959818194d",
   "metadata": {},
   "outputs": [],
   "source": [
    "# 30. Implement a function to find the minimum element in a rotated sorted list.\n",
    "\n",
    "def find_min_element(nums):\n",
    "    left = 0\n",
    "    right = len(nums) - 1\n",
    "\n",
    "    while left < right:\n",
    "        mid = left + (right - left) // 2\n",
    "\n",
    "        if nums[mid] > nums[right]:\n",
    "            # The minimum element is in the right half\n",
    "            left = mid + 1\n",
    "        else:\n",
    "            # The minimum element is in the left half or mid itself\n",
    "            right = mid\n",
    "\n",
    "    return nums[left]\n"
   ]
  },
  {
   "cell_type": "code",
   "execution_count": 71,
   "id": "5edd607f-558c-4044-ab52-f7f8385321a1",
   "metadata": {},
   "outputs": [
    {
     "data": {
      "text/plain": [
       "0"
      ]
     },
     "execution_count": 71,
     "metadata": {},
     "output_type": "execute_result"
    }
   ],
   "source": [
    "nums=[4,5,6,7,0,1,2,3]\n",
    "find_min_element(nums)"
   ]
  },
  {
   "cell_type": "code",
   "execution_count": 1,
   "id": "26a4b163-7a1a-4fa9-a43a-4584b8f01e18",
   "metadata": {},
   "outputs": [
    {
     "name": "stdout",
     "output_type": "stream",
     "text": [
      "30\n"
     ]
    }
   ],
   "source": [
    "# 31. Write a program to find the sum of all even numbers in a list.\n",
    "\n",
    "l1=[1,2,3,4,5,6,7,8,9,10]\n",
    "sum=0\n",
    "for i in l1:\n",
    "    if i%2==0:\n",
    "        sum+=i\n",
    "print(sum)"
   ]
  },
  {
   "cell_type": "code",
   "execution_count": 6,
   "id": "4a07b3f7-d676-487f-92e0-32c014b67a85",
   "metadata": {},
   "outputs": [],
   "source": [
    "# 32. Implement a function to calculate the power of a number using recursion.\n",
    "def powr(base,exponent):\n",
    "    if exponent==0:\n",
    "        return 1\n",
    "    if exponent>0:\n",
    "        return base * powr(base, exponent - 1)\n"
   ]
  },
  {
   "cell_type": "code",
   "execution_count": 7,
   "id": "0bd5b952-936e-4bed-a9a9-573ef7019215",
   "metadata": {},
   "outputs": [
    {
     "data": {
      "text/plain": [
       "4"
      ]
     },
     "execution_count": 7,
     "metadata": {},
     "output_type": "execute_result"
    }
   ],
   "source": [
    "powr(2,2)"
   ]
  },
  {
   "cell_type": "code",
   "execution_count": null,
   "id": "a4464f5e-69b8-4a0d-a254-235324ed6d08",
   "metadata": {},
   "outputs": [
    {
     "data": {
      "text/plain": [
       "{1, 2, 3, 4, 5}"
      ]
     },
     "execution_count": 9,
     "metadata": {},
     "output_type": "execute_result"
    }
   ],
   "source": [
    "# 33. Write a Python program to remove duplicates from a list while preserving the order.\n",
    "l1=[1,2,2,3,4,5,3,2]\n",
    "set(l1)"
   ]
  },
  {
   "cell_type": "code",
   "execution_count": null,
   "id": "573c69e1-8366-463e-8e36-becbe49237a5",
   "metadata": {},
   "outputs": [],
   "source": [
    "# 34. Implement a function to find the longest common prefix among a list of strings."
   ]
  },
  {
   "cell_type": "code",
   "execution_count": null,
   "id": "63b7f47c-ab9a-4cac-9907-712e3df22e91",
   "metadata": {},
   "outputs": [],
   "source": []
  },
  {
   "cell_type": "code",
   "execution_count": null,
   "id": "fba8b117-f875-4bf3-9e4d-ba3e06c345c1",
   "metadata": {},
   "outputs": [],
   "source": [
    "# 35. Write a program to check if a given number is a perfect square."
   ]
  },
  {
   "cell_type": "code",
   "execution_count": 7,
   "id": "d500b3ae-e59b-42d7-917e-f017a2017c84",
   "metadata": {},
   "outputs": [
    {
     "name": "stdout",
     "output_type": "stream",
     "text": [
      "True\n"
     ]
    }
   ],
   "source": [
    "import math\n",
    "num=36\n",
    "drs=math.sqrt(num)\n",
    "if drs==int(drs):\n",
    "    print(True)\n",
    "else:\n",
    "    print(False)"
   ]
  },
  {
   "cell_type": "code",
   "execution_count": null,
   "id": "1e7657df-76c5-4f05-928d-95e0643baf39",
   "metadata": {},
   "outputs": [],
   "source": [
    "# 36. Implement a function to calculate the product of all elements in a list.\n"
   ]
  },
  {
   "cell_type": "code",
   "execution_count": 13,
   "id": "432a3cb3-fa02-4bb2-81bd-e3f17965b5ac",
   "metadata": {},
   "outputs": [],
   "source": [
    "\n",
    "def mult(list):\n",
    "    multi=1\n",
    "    for i in list:\n",
    "        multi*=i\n",
    "    return multi\n",
    "        "
   ]
  },
  {
   "cell_type": "code",
   "execution_count": 14,
   "id": "707af848-d7a0-4be0-8806-0ded7ead3639",
   "metadata": {},
   "outputs": [
    {
     "data": {
      "text/plain": [
       "24"
      ]
     },
     "execution_count": 14,
     "metadata": {},
     "output_type": "execute_result"
    }
   ],
   "source": [
    "l1=[1,2,3,4]\n",
    "mult(l1)"
   ]
  },
  {
   "cell_type": "code",
   "execution_count": null,
   "id": "716cd8cb-f766-405a-be27-0700a5179469",
   "metadata": {},
   "outputs": [],
   "source": [
    "# 37. Write a Python program to reverse the order of words in a sentence while preserving the word order.\n"
   ]
  },
  {
   "cell_type": "code",
   "execution_count": 35,
   "id": "31771c43-19ed-4e32-b099-74bec257371d",
   "metadata": {},
   "outputs": [],
   "source": [
    "\n",
    "def reverse_sentence(sentence):\n",
    "    words = sentence.split()\n",
    "    reversed_words = words[::-1]\n",
    "    reversed_sentence = ' '.join(reversed_words)\n",
    "    return reversed_sentence"
   ]
  },
  {
   "cell_type": "code",
   "execution_count": 36,
   "id": "be703c18-22a1-4715-8d9e-17893f85e8dc",
   "metadata": {},
   "outputs": [
    {
     "data": {
      "text/plain": [
       "'cricket good very a is kohli virat'"
      ]
     },
     "execution_count": 36,
     "metadata": {},
     "output_type": "execute_result"
    }
   ],
   "source": [
    "sentence=\"virat kohli is a very good cricket\"\n",
    "reverse_sentence(sentence)"
   ]
  },
  {
   "cell_type": "code",
   "execution_count": null,
   "id": "149c2865-0b13-4fb3-bca0-7ccfbdfd1522",
   "metadata": {},
   "outputs": [],
   "source": [
    "# 38. Implement a function to find the missing number in a given list of consecutive numbers.\n"
   ]
  },
  {
   "cell_type": "code",
   "execution_count": 42,
   "id": "faadfdbd-05f6-4547-bf90-7580741094d2",
   "metadata": {},
   "outputs": [
    {
     "data": {
      "text/plain": [
       "4"
      ]
     },
     "execution_count": 42,
     "metadata": {},
     "output_type": "execute_result"
    }
   ],
   "source": [
    "l1=[1,2,3,5,6,7,8]\n",
    "n=len(l1)+1\n",
    "sumo=(n*(n+1))//2\n",
    "sum1=sum(l1)\n",
    "main_sum=sumo-sum1\n",
    "main_sum\n",
    "\n",
    "\n",
    "\n"
   ]
  },
  {
   "cell_type": "code",
   "execution_count": null,
   "id": "0420e34e-0cd3-45e4-8778-fbdc51aad05a",
   "metadata": {},
   "outputs": [],
   "source": [
    "# 39. Write a program to find the sum of digits of a given number."
   ]
  },
  {
   "cell_type": "code",
   "execution_count": 1,
   "id": "f1097d24-09bd-4593-ab36-f7b47eef2850",
   "metadata": {},
   "outputs": [
    {
     "name": "stdout",
     "output_type": "stream",
     "text": [
      "10\n"
     ]
    }
   ],
   "source": [
    "n=1234\n",
    "nums_str=str(n)\n",
    "sum=0\n",
    "for i in nums_str:\n",
    "    sum+=int(i)\n",
    "print(sum)"
   ]
  },
  {
   "cell_type": "code",
   "execution_count": null,
   "id": "e255e2d8-137e-48c4-9eb5-cf715feab0d8",
   "metadata": {},
   "outputs": [],
   "source": [
    "# 40. Implement a function to check if a given string is a valid palindrome considering case sensitivity."
   ]
  },
  {
   "cell_type": "code",
   "execution_count": 2,
   "id": "55c080b2-83ad-4520-9a4b-45c253b02901",
   "metadata": {},
   "outputs": [],
   "source": [
    "def palin(string):\n",
    "    r_str=string[::-1]\n",
    "    if string==r_str:\n",
    "        return \"palindrome\"\n",
    "    else:\n",
    "        return \"not palindrome\""
   ]
  },
  {
   "cell_type": "code",
   "execution_count": 3,
   "id": "bd33a63b-065a-4207-8adc-5808ae3f1672",
   "metadata": {},
   "outputs": [
    {
     "ename": "NameError",
     "evalue": "name 'lamal' is not defined",
     "output_type": "error",
     "traceback": [
      "\u001b[0;31m---------------------------------------------------------------------------\u001b[0m",
      "\u001b[0;31mNameError\u001b[0m                                 Traceback (most recent call last)",
      "Cell \u001b[0;32mIn[3], line 1\u001b[0m\n\u001b[0;32m----> 1\u001b[0m palin(\u001b[43mlamal\u001b[49m)\n",
      "\u001b[0;31mNameError\u001b[0m: name 'lamal' is not defined"
     ]
    }
   ],
   "source": [
    "string=lamal\n",
    "palin()"
   ]
  },
  {
   "cell_type": "code",
   "execution_count": null,
   "id": "c10104ee-1018-4efb-9613-7563bb864c7f",
   "metadata": {},
   "outputs": [],
   "source": []
  },
  {
   "cell_type": "code",
   "execution_count": null,
   "id": "ecefb508-3985-426b-b88e-aefee1aa0228",
   "metadata": {},
   "outputs": [],
   "source": [
    "\n",
    "\n",
    "\n",
    "\n",
    "\n",
    ".\n",
    "\n",
    "# 41. Write a Python program to find the smallest missing positive integer in a list.\n",
    "# 42. Implement a function to find the longest palindrome substring in a given string.\n",
    "# 43. Write a program to find the number of occurrences of a given element in a list.\n",
    "# 44. Implement a function to check if a given number is a perfect number.\n",
    "# 45. Write a Python program to remove all duplicates from a string.\n",
    "# 46. Implement a function to find the first missing positive\n"
   ]
  }
 ],
 "metadata": {
  "kernelspec": {
   "display_name": "Python 3 (ipykernel)",
   "language": "python",
   "name": "python3"
  },
  "language_info": {
   "codemirror_mode": {
    "name": "ipython",
    "version": 3
   },
   "file_extension": ".py",
   "mimetype": "text/x-python",
   "name": "python",
   "nbconvert_exporter": "python",
   "pygments_lexer": "ipython3",
   "version": "3.10.8"
  }
 },
 "nbformat": 4,
 "nbformat_minor": 5
}
